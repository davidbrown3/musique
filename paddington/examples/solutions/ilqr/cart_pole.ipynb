{
 "metadata": {
  "language_info": {
   "codemirror_mode": {
    "name": "ipython",
    "version": 3
   },
   "file_extension": ".py",
   "mimetype": "text/x-python",
   "name": "python",
   "nbconvert_exporter": "python",
   "pygments_lexer": "ipython3",
   "version": 3
  },
  "orig_nbformat": 2
 },
 "nbformat": 4,
 "nbformat_minor": 2,
 "cells": [
  {
   "cell_type": "code",
   "execution_count": null,
   "metadata": {},
   "outputs": [],
   "source": [
    "import math\n",
    "\n",
    "import jax.numpy as np\n",
    "import plotly.graph_objects as go\n",
    "\n",
    "from paddington.examples.models.nonlinear.cart_pole import CartPole\n",
    "from paddington.solvers.ilqr import iLQR\n",
    "from paddington.tools.controls_tools import (diagonalize,\n",
    "                                             quadratic_cost_function)"
   ]
  },
  {
   "cell_type": "code",
   "execution_count": null,
   "metadata": {},
   "outputs": [],
   "source": [
    "dt = 0.1\n",
    "plant = CartPole(dt)\n",
    "\n",
    "g_xx = diagonalize(np.array([0.1, 0.0, 0.2, 0.0]))\n",
    "g_uu = np.array([[0.01]])\n",
    "g_xu = np.zeros([4, 1])\n",
    "g_ux = np.zeros([1, 4])\n",
    "g_x = np.array([[0.0, 0.0, 0.0, 0.0]])\n",
    "g_u = np.array([[0.0]])\n",
    "cost_function = quadratic_cost_function(g_xx=g_xx, g_xu=g_xu, g_ux=g_ux, g_uu=g_uu, g_x=g_x, g_u=g_u)\n",
    "\n",
    "solver = iLQR(plant=plant, cost_function=cost_function)\n",
    "\n",
    "states_initial = np.array([[5.0], [0.0], [math.pi/4], [0.0]])\n",
    "time_total = 40\n",
    "\n",
    "xs, us = solver.solve(states_initial, time_total)"
   ]
  },
  {
   "cell_type": "code",
   "execution_count": null,
   "metadata": {},
   "outputs": [],
   "source": [
    "fig = go.Figure()\n",
    "\n",
    "fig.add_trace(\n",
    "    go.Scatter(\n",
    "        y=[x[2, 0] for x in xs],\n",
    "        name='angular position'\n",
    "    )\n",
    ")\n",
    "\n",
    "fig.add_trace(\n",
    "    go.Scatter(\n",
    "        y=[x[0, 0] for x in xs],\n",
    "        name='linear position'\n",
    "    )\n",
    ")\n",
    "\n",
    "fig.add_trace(\n",
    "    go.Scatter(\n",
    "        y=[u[0, 0] for u in us],\n",
    "        name='control'\n",
    "    )\n",
    ")\n",
    "\n",
    "fig.show()"
   ]
  }
 ]
}